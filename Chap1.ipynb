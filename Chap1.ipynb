{
 "cells": [
  {
   "cell_type": "markdown",
   "metadata": {},
   "source": [
    "# Chap 1 運算式、變數與資料型別\n",
    "## 註解"
   ]
  },
  {
   "cell_type": "code",
   "execution_count": 1,
   "metadata": {},
   "outputs": [
    {
     "name": "stdout",
     "output_type": "stream",
     "text": [
      "8\n"
     ]
    }
   ],
   "source": [
    "a=3  #單行註解\n",
    "b=5\n",
    "print(a+b)  #寫出 a 加 b"
   ]
  },
  {
   "cell_type": "code",
   "execution_count": 2,
   "metadata": {},
   "outputs": [
    {
     "name": "stdout",
     "output_type": "stream",
     "text": [
      "8\n"
     ]
    }
   ],
   "source": [
    "'''\n",
    "多行註解\n",
    "多行註解\n",
    "多行註解\n",
    "'''\n",
    "a=3\n",
    "b=5\n",
    "print(a+b)   "
   ]
  },
  {
   "cell_type": "markdown",
   "metadata": {},
   "source": [
    "## 運算式"
   ]
  },
  {
   "cell_type": "code",
   "execution_count": 3,
   "metadata": {},
   "outputs": [
    {
     "name": "stdout",
     "output_type": "stream",
     "text": [
      "10\n",
      "1\n"
     ]
    }
   ],
   "source": [
    "#變數交換\n",
    "x=1\n",
    "y=10\n",
    "\n",
    "z=x    #z等於 x  x=1;z=x;z=x=1 得出目前z=1\n",
    "x=y    #x等於 y  y=10;x=y=10   得出目前x=10\n",
    "y=z    #y等於 z  z=1;y=z;y=z=1 得出目前y=1\n",
    "print(x)   #寫出x ;  x=10\n",
    "print(y)   #寫出y ;  y=1"
   ]
  },
  {
   "cell_type": "code",
   "execution_count": 4,
   "metadata": {},
   "outputs": [
    {
     "name": "stdout",
     "output_type": "stream",
     "text": [
      "10\n",
      "1\n"
     ]
    }
   ],
   "source": [
    "x=1\n",
    "y=10\n",
    "\n",
    "x=x+y   #x=1+10   得出目前x=11\n",
    "y=x-y   #y=11-10  得出目前y=1\n",
    "x=x-y   #x=11-1   得出目前x=10\n",
    "print(x)\n",
    "print(y)"
   ]
  },
  {
   "cell_type": "code",
   "execution_count": 5,
   "metadata": {},
   "outputs": [
    {
     "name": "stdout",
     "output_type": "stream",
     "text": [
      "10\n",
      "1\n"
     ]
    }
   ],
   "source": [
    "#python版本的變數交換\n",
    "x=1\n",
    "y=10\n",
    "x,y = y,x   #換言之 x=y   y=x    得出x=10  y=1\n",
    "print(x)\n",
    "print(y)"
   ]
  },
  {
   "cell_type": "markdown",
   "metadata": {},
   "source": [
    "## 變數\n",
    "### 變數的平行設定"
   ]
  },
  {
   "cell_type": "code",
   "execution_count": 6,
   "metadata": {},
   "outputs": [
    {
     "name": "stdout",
     "output_type": "stream",
     "text": [
      "3\n",
      "4\n",
      "5\n"
     ]
    }
   ],
   "source": [
    "x, y, z= 3, 4, 5   #得出x=3   y=4   z=5\n",
    "print(x)\n",
    "print(y)\n",
    "print(z)"
   ]
  },
  {
   "cell_type": "code",
   "execution_count": 7,
   "metadata": {},
   "outputs": [
    {
     "name": "stdout",
     "output_type": "stream",
     "text": [
      "4 8 125\n"
     ]
    }
   ],
   "source": [
    "x, y, z = 3, 4, 5\n",
    "x += 1 #x=x+1\n",
    "y *= 2 #y=y*2\n",
    "z **= 3 #z^3\n",
    "print(x, y, z)"
   ]
  },
  {
   "cell_type": "markdown",
   "metadata": {},
   "source": [
    "### 變數的應用\n",
    "Q：邊長為3, 4, 5的三角形，其面積大小為何?  \n",
    "海龍公式：  \n",
    "s=(a+b+c)/2  \n",
    "sqrt(s(s-a)(s-b)(s-c))  "
   ]
  },
  {
   "cell_type": "code",
   "execution_count": 8,
   "metadata": {},
   "outputs": [
    {
     "name": "stdout",
     "output_type": "stream",
     "text": [
      "6.0\n"
     ]
    }
   ],
   "source": [
    "import math   #加入數學的類別\n",
    "a,b,c=3,4,5\n",
    "s=(a+b+c)/2   #s=(3+4+5)/2  得出s=6\n",
    "d=math.sqrt(s*(s-a)*(s-b)*(s-c)) #d=開根號 (6*(6-3)*(6-4)*(6-5))  得出d=6.0\n",
    "print(d)"
   ]
  },
  {
   "cell_type": "markdown",
   "metadata": {},
   "source": [
    "Q：半徑為10的圓形，其面積大小為何?  "
   ]
  },
  {
   "cell_type": "code",
   "execution_count": 9,
   "metadata": {},
   "outputs": [
    {
     "name": "stdout",
     "output_type": "stream",
     "text": [
      "314.1592653589793\n"
     ]
    }
   ],
   "source": [
    "import math\n",
    "r=10\n",
    "print(r*r*math.pi)  #math.pi=圓周率π 3.14159"
   ]
  },
  {
   "cell_type": "markdown",
   "metadata": {},
   "source": [
    "## 資料型別\n",
    "python屬於動態類型變數，使用前不需要宣告資料型態"
   ]
  },
  {
   "cell_type": "code",
   "execution_count": 10,
   "metadata": {},
   "outputs": [
    {
     "name": "stdout",
     "output_type": "stream",
     "text": [
      "<class 'int'>\n",
      "<class 'float'>\n",
      "<class 'str'>\n"
     ]
    }
   ],
   "source": [
    "x=254\n",
    "print(type(x))  #type類型   x為整數所以是int\n",
    "y=254.0\n",
    "print(type(y))  #type類型   y為浮點數所以是float\n",
    "z='write'\n",
    "print(type(z))  #type類型   z為字元所以是str"
   ]
  },
  {
   "cell_type": "markdown",
   "metadata": {},
   "source": [
    "## 算術符號"
   ]
  },
  {
   "cell_type": "code",
   "execution_count": 11,
   "metadata": {},
   "outputs": [
    {
     "name": "stdout",
     "output_type": "stream",
     "text": [
      "3.3333333333333335\n",
      "3\n",
      "1\n"
     ]
    }
   ],
   "source": [
    "x=10\n",
    "y=3\n",
    "print(x/y)  #除法\n",
    "print(x//y) #求商\n",
    "print(x%y)  #求餘數"
   ]
  },
  {
   "cell_type": "markdown",
   "metadata": {},
   "source": [
    "### 注意數字的正確性"
   ]
  },
  {
   "cell_type": "code",
   "execution_count": 12,
   "metadata": {},
   "outputs": [
    {
     "name": "stdout",
     "output_type": "stream",
     "text": [
      "0.0015926269999999576\n"
     ]
    }
   ],
   "source": [
    "x=3.141592627\n",
    "print(x-3.14) #比正確值略小"
   ]
  },
  {
   "cell_type": "markdown",
   "metadata": {},
   "source": [
    "## 關係比較"
   ]
  },
  {
   "cell_type": "code",
   "execution_count": 13,
   "metadata": {},
   "outputs": [
    {
     "name": "stdout",
     "output_type": "stream",
     "text": [
      "True\n",
      "False\n",
      "20\n"
     ]
    }
   ],
   "source": [
    "print(10==10)\n",
    "x, y = 10, 20\n",
    "print(x==y)  # == 關係比較\n",
    "x=y          # =  指派值\n",
    "print(x)"
   ]
  },
  {
   "cell_type": "markdown",
   "metadata": {},
   "source": [
    "### 關係運算，以閏年為例"
   ]
  },
  {
   "cell_type": "code",
   "execution_count": 14,
   "metadata": {},
   "outputs": [
    {
     "name": "stdout",
     "output_type": "stream",
     "text": [
      "False\n",
      "True\n",
      "False\n",
      "True\n"
     ]
    }
   ],
   "source": [
    "y=2010\n",
    "print(y%4==0 and y%100!=0 or y%400==0)\n",
    "y=2012\n",
    "print(y%4==0 and y%100!=0 or y%400==0)\n",
    "y=1900\n",
    "print(y%4==0 and y%100!=0 or y%400==0)\n",
    "y=2000\n",
    "print(y%4==0 and y%100!=0 or y%400==0)"
   ]
  },
  {
   "cell_type": "markdown",
   "metadata": {},
   "source": [
    "## 型態轉換"
   ]
  },
  {
   "cell_type": "code",
   "execution_count": 15,
   "metadata": {},
   "outputs": [
    {
     "name": "stdout",
     "output_type": "stream",
     "text": [
      "mustmustmustmustmustmustmustmustmustmust\n",
      "10must\n",
      "10 must\n"
     ]
    }
   ],
   "source": [
    "#小心不同型態之間所得到的結果跟想像不同\n",
    "x=\"must\"\n",
    "print(10*x)   #10次的x\n",
    "print(\"10\"+x) #\"10\"加上x\n",
    "print(10,x)   #10還有x"
   ]
  },
  {
   "cell_type": "code",
   "execution_count": 20,
   "metadata": {},
   "outputs": [
    {
     "name": "stdout",
     "output_type": "stream",
     "text": [
      "<class 'int'>\n",
      "<class 'float'>\n",
      "123\n",
      "123\n",
      "123\n"
     ]
    }
   ],
   "source": [
    "x=12\n",
    "print(type(x))\n",
    "y=float(x)+0.5 #強制型別轉換\n",
    "print(type(y))\n",
    "print(int(\"123\"))\n",
    "print(int(123.33))  #強制換成int  所以小數後消失\n",
    "print(int(float(\"123.33\")))  #強制換成float再強制換成int  所以小數後消失"
   ]
  },
  {
   "cell_type": "code",
   "execution_count": 27,
   "metadata": {},
   "outputs": [
    {
     "name": "stdout",
     "output_type": "stream",
     "text": [
      "The value of x is 32.5 and y is 40000\n",
      "The value of x is 32.5 and y is 40000\n",
      "The value of x is 32.5 and y is 40000\n"
     ]
    }
   ],
   "source": [
    "#字串的型別轉換\n",
    "x=10*3.25  #x=32.5\n",
    "y=200*200  #y=40000\n",
    "s=\"The value of x is \" + str(x) + ' and y is ' + str(y)\n",
    "print(s)\n",
    "print(\"The value of x is\", x,\"and y is\", y)\n",
    "print(\"The value of x is {} and y is {}\".format(x,y))"
   ]
  },
  {
   "cell_type": "markdown",
   "metadata": {},
   "source": [
    "## 非內建模組"
   ]
  },
  {
   "cell_type": "code",
   "execution_count": 32,
   "metadata": {},
   "outputs": [
    {
     "name": "stdout",
     "output_type": "stream",
     "text": [
      "3.141592653589793\n",
      "8.0\n",
      "26.423892221536985\n",
      "5.0\n"
     ]
    }
   ],
   "source": [
    "import math\n",
    "print(math.pi)\n",
    "print(math.pow(2,3))\n",
    "print(8.3*10.58*math.sin(37.0/180*math.pi)/2)\n",
    "print(math.sqrt(25))"
   ]
  },
  {
   "cell_type": "markdown",
   "metadata": {},
   "source": [
    "### 範例：算圓面積"
   ]
  },
  {
   "cell_type": "code",
   "execution_count": 34,
   "metadata": {},
   "outputs": [
    {
     "name": "stdout",
     "output_type": "stream",
     "text": [
      "請輸入圓的半徑：10\n",
      "圓面積為 314.1592653589793\n"
     ]
    }
   ],
   "source": [
    "import math\n",
    "r=input(\"請輸入圓的半徑：\")\n",
    "area=float(r)*float(r)*math.pi\n",
    "print(\"圓面積為：\",area)"
   ]
  },
  {
   "cell_type": "markdown",
   "metadata": {},
   "source": [
    "### 應用題：算矩形面積"
   ]
  },
  {
   "cell_type": "code",
   "execution_count": 35,
   "metadata": {},
   "outputs": [
    {
     "name": "stdout",
     "output_type": "stream",
     "text": [
      "請輸入矩形的長：10\n",
      "請輸入矩形的寬：5\n",
      "矩形面積為： 50.0\n"
     ]
    }
   ],
   "source": [
    "r=input(\"請輸入矩形的長：\")\n",
    "w=input(\"請輸入矩形的寬：\")\n",
    "area=float(r)*float(w)\n",
    "print(\"矩形面積為：\",area)"
   ]
  },
  {
   "cell_type": "code",
   "execution_count": null,
   "metadata": {
    "collapsed": true
   },
   "outputs": [],
   "source": []
  }
 ],
 "metadata": {
  "kernelspec": {
   "display_name": "Python 3",
   "language": "python",
   "name": "python3"
  },
  "language_info": {
   "codemirror_mode": {
    "name": "ipython",
    "version": 3
   },
   "file_extension": ".py",
   "mimetype": "text/x-python",
   "name": "python",
   "nbconvert_exporter": "python",
   "pygments_lexer": "ipython3",
   "version": "3.8.5"
  }
 },
 "nbformat": 4,
 "nbformat_minor": 4
}
